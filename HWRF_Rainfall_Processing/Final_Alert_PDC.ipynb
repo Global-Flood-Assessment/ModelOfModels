{
 "cells": [
  {
   "cell_type": "code",
   "execution_count": null,
   "metadata": {},
   "outputs": [],
   "source": [
    "import csv\n",
    "import pandas as pd\n",
    "import os\n",
    "import scipy.stats\n",
    "import numpy as np\n",
    "from datetime import date,timedelta,datetime"
   ]
  },
  {
   "cell_type": "code",
   "execution_count": null,
   "metadata": {},
   "outputs": [],
   "source": [
    "def read_data(file):\n",
    "    df = pd.read_csv(file,mangle_dupe_cols=True)\n",
    "    df = pd.DataFrame(df)\n",
    "    return df"
   ]
  },
  {
   "cell_type": "code",
   "execution_count": null,
   "metadata": {},
   "outputs": [],
   "source": [
    "forcast_date = date.today()\n",
    "cur_year, cur_month,cur_day = map(str,[forcast_date.today().year,forcast_date.today().month,forcast_date.today().day])\n",
    "cur_month = cur_month.zfill(2)\n",
    "cur_day=cur_day.zfill(2)"
   ]
  },
  {
   "cell_type": "code",
   "execution_count": null,
   "metadata": {},
   "outputs": [],
   "source": [
    "PreviousAlert=\"Final_Attributes_\"+cur_year+cur_month+str(int(cur_day)-1).zfill(2)+\"00HWRFUpdated.csv\"\n",
    "CurrentAlert=\"Final_Attributes_\"+cur_year+cur_month+str(int(cur_day)).zfill(2)+\"00HWRFUpdated.csv\""
   ]
  },
  {
   "cell_type": "code",
   "execution_count": null,
   "metadata": {},
   "outputs": [],
   "source": [
    "mapping = {'Information': 1, 'Advisory': 2, 'Watch':3, 'Warning':4}\n",
    "PA=read_data(YesterdaysAlert)\n",
    "CA=read_data(TodaysAlert)\n",
    "CA['Status']=\"\"\n",
    "PA=PA.replace({'Alert': mapping})\n",
    "CA=CA.replace({'Alert':mapping})"
   ]
  },
  {
   "cell_type": "code",
   "execution_count": null,
   "metadata": {},
   "outputs": [],
   "source": [
    "pfaf_ID=set(CA['pfaf_id'].tolist())"
   ]
  },
  {
   "cell_type": "code",
   "execution_count": null,
   "metadata": {},
   "outputs": [],
   "source": [
    "for i in pfaf_ID:\n",
    "    if i in PA.values:\n",
    "        PAlert=PA.loc[YA['pfaf_id']==i,'Alert'].item()\n",
    "    else:\n",
    "        PAlert=5\n",
    "    CAlert=CA.loc[CA['pfaf_id']==i,'Alert'].item()\n",
    "    if PAlert ==5:\n",
    "        CA.loc[CA['pfaf_id']==i,'Status']='New'\n",
    "    elif PAlert==CAlert:\n",
    "        CA.loc[CA['pfaf_id']==i,'Status']='Continued'\n",
    "    elif (CAlert>APlert):\n",
    "        CA.loc[CA['pfaf_id']==i,'Status']='Upgraded'\n",
    "    elif (CAlert<PAlert) & (PAlert!=5):\n",
    "        CA.loc[CA['pfaf_id']==i,'Status']='Downgraded'"
   ]
  },
  {
   "cell_type": "code",
   "execution_count": null,
   "metadata": {},
   "outputs": [],
   "source": [
    "mapping = {1:'Information', 2:'Advisory', 3:'Watch', 4:'Warning'}\n",
    "CA=CA.replace({'Alert':mapping})"
   ]
  },
  {
   "cell_type": "code",
   "execution_count": null,
   "metadata": {},
   "outputs": [],
   "source": [
    "CA=CA.drop(['Admin0','Admin1','ISO','Resilience_Index',' NormalizedLackofResilience '],axis=1)\n",
    "Union_Attributes=pd.read_csv('Admin0_1_union_centroid_check.csv',encoding='Windows-1252')\n",
    "PDC_Alert= pd.merge(Union_Attributes, CA, on='pfaf_id', how='inner')\n",
    "#print(PDC_Alert)\n",
    "PDC_Alert.drop(PDC_Alert.index[(PDC_Alert['DFOTotal_Score']=='') & (PDC_Alert['MOM_Score']=='') & (PDC_Alert['CentroidY']>50)], inplace=True)\n",
    "PDC_Alert=PDC_Alert.drop(['FID_x', 'FID_y'],axis=1)\n",
    "PDC_Alert.to_csv('Final_Attributes_2021101218MOM+DFO+VIIRSUpdated_PDC.csv',encoding='Windows-1252')"
   ]
  }
 ],
 "metadata": {
  "kernelspec": {
   "display_name": "Python 3",
   "language": "python",
   "name": "python3"
  },
  "language_info": {
   "codemirror_mode": {
    "name": "ipython",
    "version": 3
   },
   "file_extension": ".py",
   "mimetype": "text/x-python",
   "name": "python",
   "nbconvert_exporter": "python",
   "pygments_lexer": "ipython3",
   "version": "3.8.3"
  }
 },
 "nbformat": 4,
 "nbformat_minor": 4
}
