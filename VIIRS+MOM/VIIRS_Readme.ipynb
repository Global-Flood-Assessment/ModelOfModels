{
 "cells": [
  {
   "cell_type": "markdown",
   "metadata": {},
   "source": [
    "# VIIRS Composited Flood Products \n",
    "* The VIIRS 375-m Composited Flood Products are used to filter out cloud cover through a maximal water-fraction composition process and thus derive the maximal flood extent during a flood event from the VIIRS NRT flood maps of Suomi-NPP and NOAA- 20.\n",
    "* The routinely global VIIRS Composited Flood Products include daily composited flood product and 5-day composited flood product.\n",
    "* The compostion process is done by dividing the global land into 136 AOIs."
   ]
  },
  {
   "cell_type": "markdown",
   "metadata": {},
   "source": [
    "![picTitle](VIIRS_AOI.jpg)"
   ]
  },
  {
   "cell_type": "markdown",
   "metadata": {},
   "source": [
    "## 1. Data and Documentation Links\n",
    "\n",
    "### 1.1 Quick Guide\n",
    "* [NOAA global flood map products and information](https://www.ssec.wisc.edu/flood-map-demo/)\n",
    "* [NOAA Global Flood Product Quick Guide](https://www.ssec.wisc.edu/flood-map-demo/wp-content/uploads/sites/38/2020/11/Global_VIIRS_ABI_AHI_Flood_Mapping_UserGuide_06222020.pdf)  \n",
    "\n",
    "### 1.2 Online Viewer\n",
    "* [Daily composite](https://floods.ssec.wisc.edu/?products=RIVER-FLDglobal-composite1)\n",
    "* [5-day composite](http://floods.ssec.wisc.edu/?products=RIVER-FLDglobal-composite)   \n",
    "\n",
    "### 1.3 Data Download \n",
    "* [Download compostie data](https://floodlight.ssec.wisc.edu/composite/)\n",
    "\n",
    "### 1.4 Mosaiced GeoTiff by MoM \n",
    "* [VIIRS_image](https://js-170-28.jetstream-cloud.org/ModelofModels/VIIRS/VIIRS_image/)\n"
   ]
  },
  {
   "cell_type": "markdown",
   "metadata": {},
   "source": [
    "## 2. VIIRS and MoM"
   ]
  }
 ],
 "metadata": {
  "kernelspec": {
   "display_name": "Python 3 (ipykernel)",
   "language": "python",
   "name": "python3"
  },
  "language_info": {
   "codemirror_mode": {
    "name": "ipython",
    "version": 3
   },
   "file_extension": ".py",
   "mimetype": "text/x-python",
   "name": "python",
   "nbconvert_exporter": "python",
   "pygments_lexer": "ipython3",
   "version": "3.8.6"
  }
 },
 "nbformat": 4,
 "nbformat_minor": 2
}
