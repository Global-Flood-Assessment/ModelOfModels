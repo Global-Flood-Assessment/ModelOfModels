{
 "cells": [
  {
   "cell_type": "markdown",
   "metadata": {},
   "source": [
    "# VIIRS Composited Flood Products \n",
    "* The VIIRS 375-m Composited Flood Products are used to filter out cloud cover through a maximal water-fraction composition process and thus derive the maximal flood extent during a flood event from the VIIRS NRT flood maps of Suomi-NPP and NOAA- 20.\n",
    "* The routinely global VIIRS Composited Flood Products include daily composited flood product and 5-day composited flood product.\n",
    "* The compostion process is done by dividing the global land into 136 AOIs."
   ]
  },
  {
   "cell_type": "markdown",
   "metadata": {},
   "source": [
    "![picTitle](VIIRS_AOI.jpg)"
   ]
  },
  {
   "cell_type": "markdown",
   "metadata": {},
   "source": [
    "## 1. Data and Documentation Links\n",
    "\n",
    "### 1.1 Quick Guide\n",
    "* [NOAA global flood map products and information](https://www.ssec.wisc.edu/flood-map-demo/)\n",
    "* [NOAA Global Flood Product Quick Guide](https://www.ssec.wisc.edu/flood-map-demo/wp-content/uploads/sites/38/2020/11/Global_VIIRS_ABI_AHI_Flood_Mapping_UserGuide_06222020.pdf)  \n",
    "\n",
    "### 1.2 Online Viewer\n",
    "* [Daily composite](https://floods.ssec.wisc.edu/?products=RIVER-FLDglobal-composite1)\n",
    "* [5-day composite](http://floods.ssec.wisc.edu/?products=RIVER-FLDglobal-composite)   \n",
    "\n",
    "### 1.3 Data Download \n",
    "* [Download compostie data](https://floodlight.ssec.wisc.edu/composite/)\n",
    "\n",
    "### 1.4 Mosaiced GeoTiff by MoM \n",
    "* [VIIRS_image](https://js-170-28.jetstream-cloud.org/ModelofModels/VIIRS/VIIRS_image/)\n"
   ]
  },
  {
   "cell_type": "markdown",
   "metadata": {},
   "source": [
    "## 2. Issues with VIIRS data"
   ]
  },
  {
   "cell_type": "markdown",
   "metadata": {},
   "source": [
    "### 2.1 Misclassification of regular flooded wetlands\n",
    "\n",
    "e.g. VIIRS_5day_composite20220430_flood.tiff, these two regions are both marked as regularly flooded wetlands in wetlands map  \n",
    "![image.png](VIIRS_issue1.jpg)"
   ]
  },
  {
   "cell_type": "markdown",
   "metadata": {},
   "source": [
    "## 2.2 Seasonal wetlands in high latitude regions\n",
    "e.g. in high latitude region, the flood is more likely the misclassified groundwater-driven wetlands.   VIIRS_5day_composite20220430_flood.tiff\n",
    "![issue2](VIIRS_issue2.jpg)"
   ]
  },
  {
   "cell_type": "markdown",
   "metadata": {},
   "source": [
    "## 3. VIIRS and MoM\n",
    "\n",
    "## 3.1 Github repos\n",
    "* MoM development at IU: https://github.com/Global-Flood-Assessment/ModelOfModels   \n",
    "* MoM Production at PDC: https://github.com/Global-Flood-Assessment/MoMProduction  \n",
    "MoM Production code is more effecient and easy to install.  \n"
   ]
  },
  {
   "cell_type": "markdown",
   "metadata": {},
   "source": [
    "## 3.2 VIIRS code\n",
    "\n",
    "### 3.2.1 VIIRS processing\n",
    "[VIIRS_tool.py](https://github.com/Global-Flood-Assessment/MoMProduction/blob/main/VIIRS_tool.py)  \n",
    "```\n",
    "VIIRS_tool.py\n",
    "    -- process VIIRS data\n",
    "    -- https://www.ssec.wisc.edu/flood-map-demo/ftp-link\n",
    "    output:\n",
    "    -- VIIRS_Flood_yyyymmdd.csv at VIIRS_summary\n",
    "    -- VIIRS_1day_compositeyyyymmdd_flood.tiff at VIIRS_image\n",
    "    -- VIIRS_5day_compositeyyyymmdd_flood.tiff at VIIRS_image\n",
    "```\n",
    "### 3.2.2 VIIRS mom output\n",
    "[VIIRS_mom.py](https://github.com/Global-Flood-Assessment/MoMProduction/blob/main/VIIRS_MoM.py). \n",
    "```\n",
    "VIIRS_MoM.py\n",
    "    -- update Mom with VIIRS\n",
    "    -- Read  Final_Attributes_yyyymmddhh_MOM+DFOUpdated.csv as MOM+DFO File as MOM File and VIIRS_Flood_yyyymmdd.csv as VIIRS File. \n",
    "    -- Write the output Final_Attributes_yyyymmddhhMOM+DFO+VIIRSUpdated.csv and Attributes_clean_yyyymmddhhMOM+DFO+VIIRSUpdated.csv file.\n",
    "```\n",
    "###  3.2.3 VIIRS MoM Daily outputs\n",
    "[VIIRS_Daily](https://js-170-28.jetstream-cloud.org/ModelofModels/VIIRS/)  \n",
    "```\n",
    " └── VIIRS\n",
    "        ├── VIIRS_image\n",
    "        ├── VIIRS_MoM\n",
    "        └── VIIRS_summary\n",
    "```\n"
   ]
  },
  {
   "attachments": {},
   "cell_type": "markdown",
   "metadata": {},
   "source": [
    "## 4. Under development\n",
    "### 4.1 Integration of the population data\n",
    "[World Population Data](https://hub.worldpop.org/project/categories?id=3):  \n",
    "* Distributed by-country, 100m resolution, GeoTIFF\n",
    "* The data in neighbored countries can be mosaiced together for the watersheds covering multiple countries.\n",
    "* Population data can rule out the floods do not pose any social impacts, such as tides and marsh islands example in VIIRS, or floods in the sparsely populated high latitude areas.\n",
    "* We can further filter the flood warnings from MoM with the population data.\n",
    "![VIIRS_popdata.jpg](VIIRS_popdata.jpg)"
   ]
  },
  {
   "cell_type": "markdown",
   "metadata": {},
   "source": [
    "### 4.2 VIIRS 30m data\n",
    "The 30m VIIRS will be made available soon."
   ]
  },
  {
   "cell_type": "code",
   "execution_count": null,
   "metadata": {},
   "outputs": [],
   "source": []
  }
 ],
 "metadata": {
  "kernelspec": {
   "display_name": "Python 3 (ipykernel)",
   "language": "python",
   "name": "python3"
  },
  "language_info": {
   "codemirror_mode": {
    "name": "ipython",
    "version": 3
   },
   "file_extension": ".py",
   "mimetype": "text/x-python",
   "name": "python",
   "nbconvert_exporter": "python",
   "pygments_lexer": "ipython3",
   "version": "3.8.6"
  }
 },
 "nbformat": 4,
 "nbformat_minor": 2
}
