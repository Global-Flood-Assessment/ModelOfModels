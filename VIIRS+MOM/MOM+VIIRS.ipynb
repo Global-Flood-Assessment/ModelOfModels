{
 "cells": [
  {
   "cell_type": "code",
   "execution_count": 99,
   "metadata": {},
   "outputs": [],
   "source": [
    "import csv\n",
    "import pandas as pd\n",
    "import os\n",
    "import scipy.stats\n",
    "import numpy as np\n",
    "from datetime import date,timedelta,datetime"
   ]
  },
  {
   "cell_type": "code",
   "execution_count": 100,
   "metadata": {},
   "outputs": [],
   "source": [
    "def read_data(file):\n",
    "    df = pd.read_csv(file)\n",
    "    df = pd.DataFrame(df)\n",
    "    return df"
   ]
  },
  {
   "cell_type": "code",
   "execution_count": 101,
   "metadata": {},
   "outputs": [],
   "source": [
    "def mofunc(row):\n",
    "    if row['Severity'] > 0.8 or row['Hazard_Score'] > 80:\n",
    "        return 'Warning'\n",
    "    elif 0.6 < row['Severity'] < 0.80 or 60 < row['Hazard_Score'] < 80:\n",
    "        return 'Watch'\n",
    "    elif 0.35 < row['Severity'] < 0.6 or 35 < row['Hazard_Score'] < 60:\n",
    "        return 'Advisory'\n",
    "    elif 0 < row['Severity'] < 0.35 or 0 < row['Hazard_Score'] < 35:\n",
    "        return 'Information'"
   ]
  },
  {
   "cell_type": "code",
   "execution_count": 127,
   "metadata": {},
   "outputs": [],
   "source": [
    "forcast_date = date.today()\n",
    "cur_year, cur_month,cur_day = map(str,[forcast_date.today().year,forcast_date.today().month,forcast_date.today().day])\n",
    "cur_month = cur_month.zfill(2)\n",
    "cur_day=cur_day.zfill(2)\n",
    "#MOMOutput='Final_Attributes_'+cur_year+cur_month+str(int(cur_day)-1)+'18.csv'\n",
    "MOMOutput='Final_Attributes_20210621.csv'\n",
    "VIIRS=\"VIIRS_Flood_\"+cur_year+cur_month+str(int(cur_day)-4)+'.csv'\n"
   ]
  },
  {
   "cell_type": "code",
   "execution_count": 128,
   "metadata": {},
   "outputs": [],
   "source": [
    "weightage = read_data('VIIRS_Weightages.csv')\n",
    "Attributes=read_data('Attributes.csv')\n",
    "PDC_resilience = read_data('Copy of Resilience_Index.csv')\n",
    "add_field_VIIRS=['VIIRS_area_1day_score', 'VIIRS_percarea_1day_score', 'VIIRS_area_5day_score', 'VIIRS_percarea_5day_score','VIIRSTotal_Score']"
   ]
  },
  {
   "cell_type": "code",
   "execution_count": 129,
   "metadata": {
    "scrolled": true
   },
   "outputs": [],
   "source": [
    "#Read VIIRS Processing data and calculate score\n",
    "with open(VIIRS, 'r', encoding='UTF-8') as VIIRS_file:\n",
    "    VIIRS_reader = csv.reader(VIIRS_file)\n",
    "    csvfile = open('VIIRS_w_score.csv', 'w', newline='\\n', encoding='utf-8')\n",
    "    VIIRS_w_score = csv.writer(csvfile)\n",
    "    row_count = 1\n",
    "    # csv_writer = csv.writer(write_obj)\n",
    "    for row in VIIRS_reader:\n",
    "        if row_count == 1:\n",
    "            for x in add_field_VIIRS:\n",
    "                row.append(x)\n",
    "            row_count = row_count + 1\n",
    "        else:\n",
    "            if float(row[1]) / float(weightage.VIIRS_Area_wt) > float(weightage.VIIRS_Area_max_pt):\n",
    "                VIIRS_area_1day_score = str(float(weightage.VIIRS_Area_max_pt)*float(weightage.one_Day_Multiplier))\n",
    "            else:\n",
    "                VIIRS_area_1day_score = str(float(weightage.VIIRS_Area_Min_pt) * float(weightage.one_Day_Multiplier)* float(row[1]) / float(weightage.VIIRS_Area_wt))\n",
    "            if float(row[2]) / float(weightage.VIIRS_percArea_wt) > float(weightage.VIIRS_percArea_Maxpt):\n",
    "                VIIRS_perc_area_1day_score = str(float(weightage.VIIRS_percArea_Maxpt)*float(weightage.one_Day_Multiplier))\n",
    "            else:\n",
    "                VIIRS_perc_area_1day_score = str(float(weightage.VIIRS_percArea_Minpt)*float(weightage.one_Day_Multiplier)* float(row[2]) / float(weightage.VIIRS_percArea_wt))\n",
    "            if float(row[3]) / float(weightage.VIIRS_Area_wt) > float(weightage.VIIRS_Area_max_pt):\n",
    "                VIIRS_area_5day_score = str(float(weightage.VIIRS_Area_max_pt)*float(weightage.five_Day_Multiplier))\n",
    "            else:\n",
    "                VIIRS_area_5day_score = str(float(weightage.VIIRS_Area_Min_pt) * float(weightage.five_Day_Multiplier)* float(row[3]) / float(weightage.VIIRS_Area_wt))\n",
    "            if float(row[4]) / float(weightage.VIIRS_percArea_wt) > float(weightage.VIIRS_percArea_Maxpt):\n",
    "                VIIRS_perc_area_5day_score = str(float(weightage.VIIRS_percArea_Maxpt)*float(weightage.five_Day_Multiplier))\n",
    "            else:\n",
    "                VIIRS_perc_area_5day_score = str(float(weightage.VIIRS_percArea_Minpt)*float(weightage.five_Day_Multiplier)* float(row[4]) / float(weightage.VIIRS_percArea_wt))          \n",
    "            Sum_Score = str(\n",
    "                (float(VIIRS_area_1day_score) + float(VIIRS_perc_area_1day_score) + float(VIIRS_area_5day_score) + float(VIIRS_perc_area_5day_score)))\n",
    "            score_field = [VIIRS_area_1day_score, VIIRS_perc_area_1day_score, VIIRS_area_5day_score, VIIRS_perc_area_5day_score, Sum_Score]\n",
    "            for x in score_field:\n",
    "                row.append(x)\n",
    "        VIIRS_w_score.writerow(row)\n",
    "csvfile.close()"
   ]
  },
  {
   "cell_type": "code",
   "execution_count": null,
   "metadata": {},
   "outputs": [],
   "source": [
    "VIIRS = read_data('VIIRS_w_score.csv')\n",
    "VIIRS = VIIRS[VIIRS.VIIRSTotal_Score > 0.1]\n",
    "MOM = read_data(MOMOutput)\n",
    "MOM.drop(columns=['area_km2','ISO','Admin0','Admin1','rfr_score','cfr_score','Resilience_Index',' NormalizedLackofResilience ','Severity','Alert'], inplace=True)\n",
    "Final_Output_0= pd.merge(MOM.set_index('pfaf_id'), VIIRS.set_index('pfaf_id'), on='pfaf_id', how='outer')\n",
    "join1 = pd.merge(Attributes, PDC_resilience[['ISO', 'Resilience_Index', ' NormalizedLackofResilience ']], on='ISO', how='inner')\n",
    "Final_Output=pd.merge(join1.set_index('pfaf_id'), Final_Output_0, on='pfaf_id', how='right')\n",
    "Final_Output[['Hazard_Score']] = Final_Output[['Hazard_Score']].fillna(value=0)\n",
    "Final_Output.loc[(Final_Output['Hazard_Score']!=0) & (Final_Output['Hazard_Score']<Final_Output['VIIRSTotal_Score']),'Flag']=3\n",
    "Final_Output['Hazard_Score'] =Final_Output[['Hazard_Score', 'VIIRSTotal_Score']].max(axis=1)\n",
    "Final_Output = Final_Output[Final_Output.Hazard_Score != 0]\n",
    "Final_Output = Final_Output.assign(\n",
    "    Scaled_Riverine_Risk=lambda x: Final_Output['rfr_score'] * 20)\n",
    "Final_Output = Final_Output.assign(\n",
    "    Scaled_Coastal_Risk=lambda x: Final_Output['cfr_score'] * 20)\n",
    "Final_Output = Final_Output.assign(\n",
    "    MoM_Severity=lambda x: scipy.stats.norm(np.log(100 - Final_Output[['Scaled_Riverine_Risk', 'Scaled_Coastal_Risk']].max(axis=1)), 1).cdf(\n",
    "        np.log(Final_Output['Hazard_Score'])))\n",
    "Final_Output = Final_Output.assign(\n",
    "    VIIRS_Severity=lambda x: scipy.stats.norm(np.log(100 - Final_Output[['Scaled_Riverine_Risk', 'Scaled_Coastal_Risk']].max(axis=1)), 1).cdf(\n",
    "        np.log(Final_Output['VIIRSTotal_Score'])))\n",
    "Final_Output['Alert'] = Final_Output.apply(mofunc, axis=1)\n",
    "Final_Output.to_csv('Final_Attributes_'+cur_year+cur_month+str(float(cur_day)-1)+'18_VIIRSUpdated.csv', encoding='utf-8-sig')\n",
    "join1 = pd.merge(Attributes, PDC_resilience[['ISO', 'Resilience_Index', ' NormalizedLackofResilience ']], on='ISO', how='inner')\n",
    "Attributes_Clean_VIIRS_Updated = pd.merge(join1.set_index('pfaf_id'), Final_Output[['Alert','Flag']], on='pfaf_id', how='right')\n",
    "Attributes_Clean_VIIRS_Updated.to_csv('Attributes_Clean'+cur_year+cur_month+str(float(cur_day)-1)+'18_VIIRSUpdated.csv', encoding='utf-8-sig')\n",
    "#os.remove('VIIRS_w_score.csv')"
   ]
  },
  {
   "cell_type": "code",
   "execution_count": 130,
   "metadata": {},
   "outputs": [],
   "source": [
    "def mofunc0(row):\n",
    "    if row['MoM_Severity'] > 0.8 or row['Hazard_Score'] > 80:\n",
    "        return 'Warning'\n",
    "    elif 0.6 < row['MoM_Severity'] < 0.80 or 60 < row['Hazard_Score'] < 80:\n",
    "        return 'Watch'\n",
    "    elif 0.35 < row['MoM_Severity'] < 0.6 or 35 < row['Hazard_Score'] < 60:\n",
    "        return 'Advisory'\n",
    "    elif 0 < row['MoM_Severity'] < 0.35 or 0 < row['Hazard_Score'] < 35:\n",
    "        return 'Information'"
   ]
  },
  {
   "cell_type": "code",
   "execution_count": 131,
   "metadata": {},
   "outputs": [],
   "source": [
    "def mofunc1(row):\n",
    "    if row['VIIRS_Severity'] > 0.8 or row['VIIRSTotal_Score'] > 80:\n",
    "        return 'Warning'\n",
    "    elif 0.6 < row['VIIRS_Severity'] < 0.80 or 60 < row['VIIRSTotal_Score'] < 80:\n",
    "        return 'Watch'\n",
    "    elif 0.35 < row['VIIRS_Severity'] < 0.6 or 35 < row['VIIRSTotal_Score'] < 60:\n",
    "        return 'Advisory'\n",
    "    elif 0 < row['VIIRS_Severity'] < 0.35 or 0 < row['VIIRSTotal_Score'] < 35:\n",
    "        return 'Information'"
   ]
  },
  {
   "cell_type": "code",
   "execution_count": 132,
   "metadata": {},
   "outputs": [],
   "source": [
    "## To get the confusion matrix i.e. keeping MOMalert as well as VIIRS Alert\n",
    "VIIRS = read_data('VIIRS_w_score.csv')\n",
    "VIIRS = VIIRS[VIIRS.VIIRSTotal_Score > 0.1]\n",
    "MOM = read_data(MOMOutput)\n",
    "#MOM.drop(columns=['area_km2','ISO','Admin0','Admin1','rfr_score','cfr_score','Resilience_Index',' NormalizedLackofResilience ','Severity','Alert'], inplace=True)\n",
    "MOM.drop(columns=['ISO','Admin0','Admin1','rfr_score','cfr_score','Resilience_Index',' NormalizedLackofResilience ','Severity','Alert'], inplace=True)\n",
    "Final_Output_0= pd.merge(MOM.set_index('pfaf_id'), VIIRS.set_index('pfaf_id'), on='pfaf_id', how='outer')\n",
    "join1 = pd.merge(Attributes, PDC_resilience[['ISO', 'Resilience_Index', ' NormalizedLackofResilience ']], on='ISO', how='inner')\n",
    "Final_Output=pd.merge(join1.set_index('pfaf_id'), Final_Output_0, on='pfaf_id', how='right')\n",
    "Final_Output[['Hazard_Score']] = Final_Output[['Hazard_Score']].fillna(value=0)\n",
    "Final_Output.loc[(Final_Output['Hazard_Score']!=0) & (Final_Output['Hazard_Score']<Final_Output['VIIRSTotal_Score']),'Flag']=3\n",
    "#Final_Output['Hazard_Score'] =Final_Output[['Hazard_Score', 'VIIRSTotal_Score']].max(axis=1)\n",
    "#Final_Output = Final_Output[Final_Output.Hazard_Score != 0]\n",
    "Final_Output = Final_Output.assign(\n",
    "    Scaled_Riverine_Risk=lambda x: Final_Output['rfr_score'] * 20)\n",
    "Final_Output = Final_Output.assign(\n",
    "    Scaled_Coastal_Risk=lambda x: Final_Output['cfr_score'] * 20)\n",
    "Final_Output = Final_Output.assign(\n",
    "    MoM_Severity=lambda x: scipy.stats.norm(np.log(100 - Final_Output[['Scaled_Riverine_Risk', 'Scaled_Coastal_Risk']].max(axis=1)), 1).cdf(\n",
    "        np.log(Final_Output['Hazard_Score'])))\n",
    "Final_Output = Final_Output.assign(\n",
    "    VIIRS_Severity=lambda x: scipy.stats.norm(np.log(100 - Final_Output[['Scaled_Riverine_Risk', 'Scaled_Coastal_Risk']].max(axis=1)), 1).cdf(\n",
    "        np.log(Final_Output['VIIRSTotal_Score'])))\n",
    "Final_Output['MoM_Alert'] = Final_Output.apply(mofunc0, axis=1)\n",
    "Final_Output['VIIRS_Alert'] = Final_Output.apply(mofunc1, axis=1)\n",
    "Final_Output.to_csv('Final_Attributes_MOM+VIIRSAlert'+cur_year+cur_month+str(float(cur_day)-4)+'18_VIIRSUpdated.csv', encoding='utf-8-sig')\n",
    "#join1 = pd.merge(Attributes, PDC_resilience[['ISO', 'Resilience_Index', ' NormalizedLackofResilience ']], on='ISO', how='inner')\n",
    "#Attributes_Clean_VIIRS_Updated = pd.merge(join1.set_index('pfaf_id'), Final_Output[['Alert','Flag']], on='pfaf_id', how='right')\n",
    "#Attributes_Clean_VIIRS_Updated.to_csv('Attributes_Clean'+cur_year+cur_month+str(float(cur_day)-1)+'18_VIIRSUpdated.csv', encoding='utf-8-sig')\n",
    "#os.remove('VIIRS_w_score.csv')"
   ]
  },
  {
   "cell_type": "code",
   "execution_count": null,
   "metadata": {},
   "outputs": [],
   "source": []
  }
 ],
 "metadata": {
  "kernelspec": {
   "display_name": "Python 3",
   "language": "python",
   "name": "python3"
  },
  "language_info": {
   "codemirror_mode": {
    "name": "ipython",
    "version": 3
   },
   "file_extension": ".py",
   "mimetype": "text/x-python",
   "name": "python",
   "nbconvert_exporter": "python",
   "pygments_lexer": "ipython3",
   "version": "3.8.3"
  }
 },
 "nbformat": 4,
 "nbformat_minor": 4
}
