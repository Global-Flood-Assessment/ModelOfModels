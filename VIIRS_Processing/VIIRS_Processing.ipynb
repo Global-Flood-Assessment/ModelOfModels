{
 "cells": [
  {
   "cell_type": "code",
   "execution_count": 1,
   "metadata": {},
   "outputs": [],
   "source": [
    "from osgeo import gdal\n",
    "import pandas as pd\n",
    "import geopandas as gpd\n",
    "import csv\n",
    "import json\n",
    "from rasterio.mask import mask\n",
    "import os, glob\n",
    "import numpy as np\n",
    "import rasterio\n",
    "import math\n",
    "from datetime import date,timedelta,datetime\n",
    "import requests, wget\n",
    "import shapely\n",
    "from shapely.geometry import Point\n",
   ]
  },
  {
   "cell_type": "code",
   "execution_count": 2,
   "metadata": {},
   "outputs": [],
   "source": [
    "#Read watershed shapefile\n",
    "watersheds=gpd.read_file(\"Watershed_pfaf_id.shp\")\n",
    "watersheds.set_index(\"pfaf_id\",inplace=True)"
   ]
  },
  {
   "cell_type": "code",
   "execution_count": 3,
   "metadata": {},
   "outputs": [],
   "source": [
    "#get recent date\n",
    "forcast_date = date.today()\n",
    "cur_year, cur_month,cur_day = map(str,[forcast_date.today().year,forcast_date.today().month,forcast_date.today().day])\n",
    "cur_month = cur_month.zfill(2)\n",
    "cur_day=cur_day.zfill(2)"
   ]
  },
  {
   "cell_type": "code",
   "execution_count": 26,
   "metadata": {},
   "outputs": [],
   "source": [
    "#downoad the VIIRS data of all parts using https site for the recent date\n",
    "\n",
    "##download 1daycomposite data\n",
    "baseurl='https://floodlight.ssec.wisc.edu/composite/RIVER-FLDglobal-composite1_'\n",
    "for i in range(1,137):\n",
    "    parameters=cur_year+cur_month+str(int(cur_day)-1).zfill(2)+\"_000000.part\"+str(i).zfill(3)+'.tif'\n",
    "    dataurl=baseurl+parameters\n",
    "    filename='RIVER-FLDglobal-composite1_'+parameters\n",
    "    r = requests.get(dataurl, allow_redirects=True)\n",
    "    open(filename,'wb').write(r.content)\n",
    "  "
   ]
  },
  {
   "cell_type": "code",
   "execution_count": 27,
   "metadata": {},
   "outputs": [],
   "source": [
    "##download 5daycomposite data\n",
    "baseurl='https://floodlight.ssec.wisc.edu/composite/RIVER-FLDglobal-composite_'\n",
    "for i in range(1,137):\n",
    "    parameters=cur_year+cur_month+str(int(cur_day)-1).zfill(2)+\"_000000.part\"+str(i).zfill(3)+'.tif'\n",
    "    dataurl=baseurl+parameters\n",
    "    filename='RIVER-FLDglobal-composite_'+parameters\n",
    "    r = requests.get(dataurl,allow_redirects=True)\n",
    "    open(filename,'wb').write(r.content)"
   ]
  },
  {
   "cell_type": "code",
   "execution_count": 28,
   "metadata": {},
   "outputs": [],
   "source": [
    "#Merge all the part together\n",
    "VIIRS_flood=[]\n",
    "matching_files=\"composite1\"\n",
    "for files in os.listdir():\n",
    "    if matching_files in files:\n",
    "        VIIRS_flood.append(files)      \n",
    "filename0=\"VIIRS_1day_composite\"+cur_year+cur_month+str(int(cur_day)-1).zfill(2)+\"_flood.vrt\"\n",
    "vrt=gdal.BuildVRT(filename0, VIIRS_flood)   \n",
    "gdal.Translate(filename0.replace(\".vrt\",\".tiff\"), vrt)                    \n",
    "vrt=None\n",
    "os.remove(filename0)\n",
    "for i in VIIRS_flood:\n",
    "    os.remove(i)  \n",
    "VIIRS_flood=[]\n",
    "matching_files=\"composite_\"\n",
    "for files in os.listdir():\n",
    "    if matching_files in files:\n",
    "        VIIRS_flood.append(files)\n",
    "filename1=\"VIIRS_5day_composite\"+cur_year+cur_month+str(int(cur_day)-1).zfill(2)+\"_flood.vrt\"\n",
    "vrt=gdal.BuildVRT(filename1, VIIRS_flood)   \n",
    "gdal.Translate(filename1.replace(\".vrt\",\".tiff\"), vrt)                    \n",
    "vrt=None\n",
    "os.remove(filename1)\n",
    "for i in VIIRS_flood:\n",
    "    os.remove(i) "
   ]
  },
  {
   "cell_type": "code",
   "execution_count": 29,
   "metadata": {},
   "outputs": [],
   "source": [
    "def VIIRS_extract_by_mask(mask_json,tiff):\n",
    "    with rasterio.open(tiff) as src:\n",
    "        try:\n",
    "            out_image, out_transform = mask(src, [mask_json['features'][0]['geometry']], crop=True)\n",
    "        except ValueError as e:\n",
    "            #'Input shapes do not overlap raster.'\n",
    "            src = None\n",
    "            area=0\n",
    "            # return empty dataframe\n",
    "            return area\n",
    "    data = out_image[0]\n",
    "    point_count = np.count_nonzero((data>140) & (data<201))\n",
    "    src = None\n",
    "    # total area\n",
    "    #resolution is 375m\n",
    "    area = point_count * 0.375 * 0.375\n",
    "    return area"
   ]
  },
  {
   "cell_type": "code",
   "execution_count": 30,
   "metadata": {},
   "outputs": [],
   "source": [
    "pfafid_list = watersheds.index.tolist()\n",
    "headers_list = [\"pfaf_id\",\"onedayFlood_Area_km\",\"onedayperc_Area\",]\n",
    "with open(filename0.replace(\".vrt\",\".csv\"),'w') as f:   \n",
    "    writer = csv.writer(f)\n",
    "    writer.writerow(headers_list)  \n",
    "with open(filename0.replace(\".vrt\",\".csv\"), 'a') as f:\n",
    "#with open('VIIRS_1day_composite_20210620_flood.csv', 'a') as f:\n",
    "    writer = csv.writer(f)\n",
    "    for the_pfafid in pfafid_list:\n",
    "        test_json = json.loads(gpd.GeoSeries([watersheds.loc[the_pfafid,'geometry']]).to_json())\n",
    "        area = VIIRS_extract_by_mask(test_json,filename0.replace(\".vrt\",\".tiff\"))              \n",
    "        perc_Area = area/watersheds.loc[the_pfafid]['area_km2']*100\n",
    "        results_list = [the_pfafid,area,perc_Area]\n",
    "        writer.writerow(results_list)\n",
    "headers_list = [\"pfaf_id\",\"fivedayFlood_Area_km\",\"fivedayperc_Area\",]\n",
    "with open(filename1.replace(\".vrt\",\".csv\"),'w') as f:\n",
    "    writer = csv.writer(f)\n",
    "    writer.writerow(headers_list)  \n",
    "with open(filename1.replace(\".vrt\",\".csv\"), 'a') as f:\n",
    "    writer = csv.writer(f)\n",
    "    for the_pfafid in pfafid_list:\n",
    "        test_json = json.loads(gpd.GeoSeries([watersheds.loc[the_pfafid,'geometry']]).to_json())\n",
    "        area = VIIRS_extract_by_mask(test_json,filename1.replace(\".vrt\",\".tiff\"))              \n",
    "        perc_Area = area/watersheds.loc[the_pfafid]['area_km2']*100\n",
    "        results_list = [the_pfafid,area,perc_Area]\n",
    "        writer.writerow(results_list)"
   ]
  },
  {
   "cell_type": "code",
   "execution_count": 31,
   "metadata": {},
   "outputs": [],
   "source": [
    "def read_data(file):\n",
    "    df = pd.read_csv(file)\n",
    "    df = pd.DataFrame(df)\n",
    "    df.dropna(inplace=True)\n",
    "    return df"
   ]
  },
  {
   "cell_type": "code",
   "execution_count": 32,
   "metadata": {},
   "outputs": [],
   "source": [
    "join = read_data(filename0.replace(\".vrt\",\".csv\"))\n",
    "join = join[join.onedayFlood_Area_km != 0]"
   ]
  },
  {
   "cell_type": "code",
   "execution_count": 33,
   "metadata": {},
   "outputs": [],
   "source": [
    "join1 = read_data(filename1.replace(\".vrt\",\".csv\"))\n",
    "join1 = join1[join1.fivedayFlood_Area_km != 0]"
   ]
  },
  {
   "cell_type": "code",
   "execution_count": 34,
   "metadata": {},
   "outputs": [],
   "source": [
    "merge = pd.merge(join.set_index('pfaf_id'), join1.set_index('pfaf_id'), on='pfaf_id', how='outer')\n",
    "merge.fillna(0, inplace=True)"
   ]
  },
  {
   "cell_type": "code",
   "execution_count": 35,
   "metadata": {},
   "outputs": [],
   "source": [
    "merge.to_csv(\"VIIRS_Flood_\"+cur_year+cur_month+str(int(cur_day)-1)+\".csv\", encoding='utf-8-sig')\n",
    "os.remove(filename1.replace(\".vrt\",\".csv\"))\n",
    "os.remove(filename0.replace(\".vrt\",\".csv\"))"
   ]
  },
  {
   "cell_type": "code",
   "execution_count": null,
   "metadata": {},
   "outputs": [],
   "source": []
  }
 ],
 "metadata": {
  "kernelspec": {
   "display_name": "Python 3",
   "language": "python",
   "name": "python3"
  },
  "language_info": {
   "codemirror_mode": {
    "name": "ipython",
    "version": 3
   },
   "file_extension": ".py",
   "mimetype": "text/x-python",
   "name": "python",
   "nbconvert_exporter": "python",
   "pygments_lexer": "ipython3",
   "version": "3.8.3"
  }
 },
 "nbformat": 4,
 "nbformat_minor": 4
}
